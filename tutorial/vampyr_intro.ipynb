{
 "cells": [
  {
   "cell_type": "code",
   "execution_count": 1,
   "id": "0594f25e-2756-46d0-b061-cb850158f97f",
   "metadata": {},
   "outputs": [],
   "source": [
    "from vampyr import vampyr3d as vp\n",
    "from numpy import exp"
   ]
  },
  {
   "cell_type": "markdown",
   "id": "94c8df55-6c14-44c9-bf05-97fe546ca399",
   "metadata": {},
   "source": [
    "# Making the MRA\n",
    "\n",
    "\n",
    "The Multiresolution analysis is the numerical space we work on, it has a size and an order"
   ]
  },
  {
   "cell_type": "code",
   "execution_count": null,
   "id": "1967defc-f567-4676-8309-2607aabb1659",
   "metadata": {},
   "outputs": [],
   "source": [
    "mra = vp.MultiResolutionAnalysis(box=[-20,20], order=7)\n",
    "print(mra)"
   ]
  },
  {
   "cell_type": "markdown",
   "id": "a0f267db-c351-4bac-ae1c-e70cd7074867",
   "metadata": {},
   "source": [
    "# Projecting a function onto the MRA\n",
    "\n",
    "\n",
    "Projection a function onto the MRA is done through a projection operator"
   ]
  },
  {
   "cell_type": "code",
   "execution_count": null,
   "id": "a63fb7a6-48d2-4bd2-b5b0-3aaa3aa6221e",
   "metadata": {},
   "outputs": [],
   "source": [
    "prec = 1.0e-4\n",
    "projection_operator = vp.ScalingProjector(mra, prec)\n",
    "\n",
    "def gauss(x):\n",
    "    return exp(-x[0]**2 -x[1]**2 - x[2]**2)\n",
    "\n",
    "\n",
    "gauss_tree = projection_operator(gauss)\n",
    "print(gauss_tree)"
   ]
  }
 ],
 "metadata": {
  "kernelspec": {
   "display_name": "Python 3 (ipykernel)",
   "language": "python",
   "name": "python3"
  },
  "language_info": {
   "codemirror_mode": {
    "name": "ipython",
    "version": 3
   },
   "file_extension": ".py",
   "mimetype": "text/x-python",
   "name": "python",
   "nbconvert_exporter": "python",
   "pygments_lexer": "ipython3",
   "version": "3.10.8"
  }
 },
 "nbformat": 4,
 "nbformat_minor": 5
}
